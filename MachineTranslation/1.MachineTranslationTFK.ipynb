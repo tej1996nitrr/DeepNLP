{
 "cells": [
  {
   "cell_type": "code",
   "execution_count": 25,
   "metadata": {},
   "outputs": [],
   "source": [
    "import string\n",
    "import re\n",
    "from numpy import array, argmax, random, take\n",
    "import pandas as pd\n",
    "from tensorflow.keras.models import Sequential\n",
    "from tensorflow.keras.layers import Dense, LSTM, Embedding, Bidirectional, RepeatVector, TimeDistributed\n",
    "from tensorflow.keras.preprocessing.text import Tokenizer\n",
    "from tensorflow.keras.callbacks import ModelCheckpoint\n",
    "from tensorflow.keras.preprocessing.sequence import pad_sequences\n",
    "from tensorflow.keras.models import load_model\n",
    "from tensorflow.keras import optimizers\n",
    "import matplotlib.pyplot as plt\n",
    "%matplotlib inline\n",
    "pd.set_option('display.max_colwidth', 200)"
   ]
  },
  {
   "cell_type": "code",
   "execution_count": 3,
   "metadata": {},
   "outputs": [],
   "source": [
    "# function to read raw text file\n",
    "def read_text(filename):\n",
    "    # open the file\n",
    "    file = open(filename, mode='rt', encoding='utf-8')\n",
    "    # read all text\n",
    "    text = file.read()\n",
    "    file.close()\n",
    "    return text\n"
   ]
  },
  {
   "cell_type": "code",
   "execution_count": 4,
   "metadata": {},
   "outputs": [],
   "source": [
    "# split a text into sentences\n",
    "def to_lines(text):\n",
    "    sents = text.strip().split('\\n')\n",
    "    sents = [i.split('\\t') for i in sents]\n",
    "    return sents\n"
   ]
  },
  {
   "cell_type": "code",
   "execution_count": 5,
   "metadata": {},
   "outputs": [],
   "source": [
    "data = read_text(\"deu-eng/deu.txt\")\n",
    "deu_eng = to_lines(data)\n",
    "deu_eng = array(deu_eng)"
   ]
  },
  {
   "cell_type": "code",
   "execution_count": 10,
   "metadata": {},
   "outputs": [
    {
     "data": {
      "text/plain": [
       "array(['Be kind.', 'Sei nett!',\n",
       "       'CC-BY 2.0 (France) Attribution: tatoeba.org #1916315 (CK) & #1998565 (Tamy)'],\n",
       "      dtype='<U537')"
      ]
     },
     "execution_count": 10,
     "metadata": {},
     "output_type": "execute_result"
    }
   ],
   "source": [
    "deu_eng[100]"
   ]
  },
  {
   "cell_type": "code",
   "execution_count": 7,
   "metadata": {},
   "outputs": [],
   "source": [
    "\n",
    "deu_eng = deu_eng[:50000,:]"
   ]
  },
  {
   "cell_type": "code",
   "execution_count": 11,
   "metadata": {},
   "outputs": [],
   "source": [
    "'''Text Pre-Processing'''\n",
    "# Remove punctuation\n",
    "deu_eng[:,0] = [s.translate(str.maketrans('', '', string.punctuation)) for s in deu_eng[:,0]]\n",
    "deu_eng[:,1] = [s.translate(str.maketrans('', '', string.punctuation)) for s in deu_eng[:,1]]\n",
    "\n",
    "# convert to lowercase\n",
    "for i in range(len(deu_eng)):\n",
    "    deu_eng[i,0] = deu_eng[i,0].lower() \n",
    "    deu_eng[i,1] = deu_eng[i,1].lower()"
   ]
  },
  {
   "cell_type": "code",
   "execution_count": 12,
   "metadata": {},
   "outputs": [],
   "source": [
    "'''Text to Sequence Conversion'''\n",
    "\n",
    "eng_l = []\n",
    "deu_l = []\n",
    "\n",
    "# populate the lists with sentence lengths\n",
    "for i in deu_eng[:,0]:\n",
    "    eng_l.append(len(i.split()))\n",
    "\n",
    "for i in deu_eng[:,1]:\n",
    "    deu_l.append(len(i.split()))"
   ]
  },
  {
   "cell_type": "code",
   "execution_count": 13,
   "metadata": {},
   "outputs": [],
   "source": [
    "length_df = pd.DataFrame({'eng':eng_l, 'deu':deu_l})"
   ]
  },
  {
   "cell_type": "code",
   "execution_count": 14,
   "metadata": {},
   "outputs": [
    {
     "data": {
      "image/png": "[encoded data removed]",
      "text/plain": [
       "<Figure size 432x288 with 2 Axes>"
      ]
     },
     "metadata": {
      "needs_background": "light"
     },
     "output_type": "display_data"
    }
   ],
   "source": [
    "length_df.hist(bins = 30)\n",
    "plt.show()"
   ]
  },
  {
   "cell_type": "code",
   "execution_count": 26,
   "metadata": {},
   "outputs": [
    {
     "name": "stdout",
     "output_type": "stream",
     "text": [
      "English Vocabulary Size: 6243\n",
      "Deutch Vocabulary Size: 10329\n"
     ]
    }
   ],
   "source": [
    "# function to build a tokenizer\n",
    "def tokenization(lines):\n",
    "    tokenizer = Tokenizer()\n",
    "    tokenizer.fit_on_texts(lines)\n",
    "    return tokenizer\n",
    "\n",
    "# preparing english tokenizer\n",
    "eng_tokenizer = tokenization(deu_eng[:, 0])\n",
    "eng_vocab_size = len(eng_tokenizer.word_index) + 1\n",
    "\n",
    "eng_length = 8\n",
    "print('English Vocabulary Size: %d' % eng_vocab_size)\n",
    "\n",
    "# preparing Deutch tokenizer\n",
    "deu_tokenizer = tokenization(deu_eng[:, 1])\n",
    "deu_vocab_size = len(deu_tokenizer.word_index) + 1\n",
    "\n",
    "deu_length = 8\n",
    "print('Deutch Vocabulary Size: %d' % deu_vocab_size)"
   ]
  },
  {
   "cell_type": "code",
   "execution_count": 27,
   "metadata": {},
   "outputs": [],
   "source": [
    "'''Padding'''\n",
    "# encode and pad sequences\n",
    "def encode_sequences(tokenizer, length, lines):\n",
    "    # integer encode sequences\n",
    "    seq = tokenizer.texts_to_sequences(lines)\n",
    "    # pad sequences with 0 values\n",
    "    seq = pad_sequences(seq, maxlen=length, padding='post')\n",
    "    return seq"
   ]
  },
  {
   "cell_type": "code",
   "execution_count": 28,
   "metadata": {},
   "outputs": [],
   "source": [
    "'''Model Building'''\n",
    "from sklearn.model_selection import train_test_split\n",
    "#splitting \n",
    "train, test = train_test_split(deu_eng, test_size=0.2, random_state = 12)\n"
   ]
  },
  {
   "cell_type": "code",
   "execution_count": 29,
   "metadata": {},
   "outputs": [
    {
     "name": "stdout",
     "output_type": "stream",
     "text": [
      "40000\n",
      "10000\n"
     ]
    }
   ],
   "source": [
    "print(len(train))\n",
    "print(len(test))"
   ]
  },
  {
   "cell_type": "code",
   "execution_count": 30,
   "metadata": {},
   "outputs": [],
   "source": [
    "# prepare training data\n",
    "trainX = encode_sequences(deu_tokenizer, deu_length, train[:, 1])\n",
    "trainY = encode_sequences(eng_tokenizer, eng_length, train[:, 0])\n"
   ]
  },
  {
   "cell_type": "code",
   "execution_count": 31,
   "metadata": {},
   "outputs": [],
   "source": [
    "# prepare validation data\n",
    "testX = encode_sequences(deu_tokenizer, deu_length, test[:, 1])\n",
    "testY = encode_sequences(eng_tokenizer, eng_length, test[:, 0])"
   ]
  },
  {
   "cell_type": "code",
   "execution_count": 32,
   "metadata": {},
   "outputs": [],
   "source": [
    "# build NMT model\n",
    "def build_model(in_vocab, out_vocab, in_timesteps, out_timesteps, units):\n",
    "    model = Sequential()\n",
    "    model.add(Embedding(in_vocab, units, input_length=in_timesteps, mask_zero=True))\n",
    "    model.add(LSTM(units))\n",
    "    model.add(RepeatVector(out_timesteps))\n",
    "    model.add(LSTM(units, return_sequences=True))\n",
    "    model.add(Dense(out_vocab, activation='softmax'))\n",
    "    return model"
   ]
  },
  {
   "cell_type": "code",
   "execution_count": 33,
   "metadata": {},
   "outputs": [],
   "source": [
    "'''optimizer '''\n",
    "model = build_model(deu_vocab_size, eng_vocab_size, deu_length, eng_length, 512)\n",
    "rms = optimizers.RMSprop(lr=0.001)\n",
    "model.compile(optimizer=rms, loss='sparse_categorical_crossentropy')\n",
    "# 'sparse_categorical_crossentropy' as the loss function allows us to use the target sequence as it is instead of one hot encoded format."
   ]
  },
  {
   "cell_type": "code",
   "execution_count": 34,
   "metadata": {},
   "outputs": [
    {
     "name": "stdout",
     "output_type": "stream",
     "text": [
      "Epoch 1/30\n",
      "63/63 [==============================] - ETA: 0s - loss: 3.4173\n",
      "Epoch 00001: val_loss improved from inf to 2.89507, saving model to MTmodel.h1.24_Aug_20\n",
      "WARNING:tensorflow:From /Users/tejask/opt/anaconda3/envs/TFK/lib/python3.7/site-packages/tensorflow/python/training/tracking/tracking.py:111: Model.state_updates (from tensorflow.python.keras.engine.training) is deprecated and will be removed in a future version.\n",
      "Instructions for updating:\n",
      "This property should not be used in TensorFlow 2.0, as updates are applied automatically.\n",
      "WARNING:tensorflow:From /Users/tejask/opt/anaconda3/envs/TFK/lib/python3.7/site-packages/tensorflow/python/training/tracking/tracking.py:111: Layer.updates (from tensorflow.python.keras.engine.base_layer) is deprecated and will be removed in a future version.\n",
      "Instructions for updating:\n",
      "This property should not be used in TensorFlow 2.0, as updates are applied automatically.\n",
      "INFO:tensorflow:Assets written to: MTmodel.h1.24_Aug_20/assets\n",
      "63/63 [==============================] - 127s 2s/step - loss: 3.4173 - val_loss: 2.8951\n",
      "Epoch 2/30\n",
      "63/63 [==============================] - ETA: 0s - loss: 2.7831\n",
      "Epoch 00002: val_loss improved from 2.89507 to 2.82129, saving model to MTmodel.h1.24_Aug_20\n",
      "INFO:tensorflow:Assets written to: MTmodel.h1.24_Aug_20/assets\n",
      "63/63 [==============================] - 120s 2s/step - loss: 2.7831 - val_loss: 2.8213\n",
      "Epoch 3/30\n",
      "63/63 [==============================] - ETA: 0s - loss: 2.6311\n",
      "Epoch 00003: val_loss improved from 2.82129 to 2.57989, saving model to MTmodel.h1.24_Aug_20\n",
      "INFO:tensorflow:Assets written to: MTmodel.h1.24_Aug_20/assets\n",
      "63/63 [==============================] - 125s 2s/step - loss: 2.6311 - val_loss: 2.5799\n",
      "Epoch 4/30\n",
      "63/63 [==============================] - ETA: 0s - loss: 2.4599\n",
      "Epoch 00004: val_loss improved from 2.57989 to 2.46380, saving model to MTmodel.h1.24_Aug_20\n",
      "INFO:tensorflow:Assets written to: MTmodel.h1.24_Aug_20/assets\n",
      "63/63 [==============================] - 128s 2s/step - loss: 2.4599 - val_loss: 2.4638\n",
      "Epoch 5/30\n",
      "63/63 [==============================] - ETA: 0s - loss: 2.3176\n",
      "Epoch 00005: val_loss improved from 2.46380 to 2.34780, saving model to MTmodel.h1.24_Aug_20\n",
      "INFO:tensorflow:Assets written to: MTmodel.h1.24_Aug_20/assets\n",
      "63/63 [==============================] - 131s 2s/step - loss: 2.3176 - val_loss: 2.3478\n",
      "Epoch 6/30\n",
      "63/63 [==============================] - ETA: 0s - loss: 2.1858 \n",
      "Epoch 00006: val_loss improved from 2.34780 to 2.24404, saving model to MTmodel.h1.24_Aug_20\n",
      "INFO:tensorflow:Assets written to: MTmodel.h1.24_Aug_20/assets\n",
      "63/63 [==============================] - 2264s 36s/step - loss: 2.1858 - val_loss: 2.2440\n",
      "Epoch 7/30\n",
      "63/63 [==============================] - ETA: 0s - loss: 2.0690\n",
      "Epoch 00007: val_loss improved from 2.24404 to 2.18023, saving model to MTmodel.h1.24_Aug_20\n",
      "INFO:tensorflow:Assets written to: MTmodel.h1.24_Aug_20/assets\n",
      "63/63 [==============================] - 162s 3s/step - loss: 2.0690 - val_loss: 2.1802\n",
      "Epoch 8/30\n",
      "63/63 [==============================] - ETA: 0s - loss: 1.9577\n",
      "Epoch 00008: val_loss improved from 2.18023 to 2.07550, saving model to MTmodel.h1.24_Aug_20\n",
      "INFO:tensorflow:Assets written to: MTmodel.h1.24_Aug_20/assets\n",
      "63/63 [==============================] - 137s 2s/step - loss: 1.9577 - val_loss: 2.0755\n",
      "Epoch 9/30\n",
      "63/63 [==============================] - ETA: 0s - loss: 1.8526\n",
      "Epoch 00009: val_loss improved from 2.07550 to 2.01181, saving model to MTmodel.h1.24_Aug_20\n",
      "INFO:tensorflow:Assets written to: MTmodel.h1.24_Aug_20/assets\n",
      "63/63 [==============================] - 125s 2s/step - loss: 1.8526 - val_loss: 2.0118\n",
      "Epoch 10/30\n",
      "63/63 [==============================] - ETA: 0s - loss: 1.7511\n",
      "Epoch 00010: val_loss improved from 2.01181 to 1.92074, saving model to MTmodel.h1.24_Aug_20\n",
      "INFO:tensorflow:Assets written to: MTmodel.h1.24_Aug_20/assets\n",
      "63/63 [==============================] - 124s 2s/step - loss: 1.7511 - val_loss: 1.9207\n",
      "Epoch 11/30\n",
      "63/63 [==============================] - ETA: 0s - loss: 1.6478\n",
      "Epoch 00011: val_loss improved from 1.92074 to 1.86878, saving model to MTmodel.h1.24_Aug_20\n",
      "INFO:tensorflow:Assets written to: MTmodel.h1.24_Aug_20/assets\n",
      "63/63 [==============================] - 128s 2s/step - loss: 1.6478 - val_loss: 1.8688\n",
      "Epoch 12/30\n",
      "63/63 [==============================] - ETA: 0s - loss: 1.5482\n",
      "Epoch 00012: val_loss improved from 1.86878 to 1.79154, saving model to MTmodel.h1.24_Aug_20\n",
      "INFO:tensorflow:Assets written to: MTmodel.h1.24_Aug_20/assets\n",
      "63/63 [==============================] - 130s 2s/step - loss: 1.5482 - val_loss: 1.7915\n",
      "Epoch 13/30\n",
      "63/63 [==============================] - ETA: 0s - loss: 1.4543\n",
      "Epoch 00013: val_loss improved from 1.79154 to 1.72646, saving model to MTmodel.h1.24_Aug_20\n",
      "INFO:tensorflow:Assets written to: MTmodel.h1.24_Aug_20/assets\n",
      "63/63 [==============================] - 129s 2s/step - loss: 1.4543 - val_loss: 1.7265\n",
      "Epoch 14/30\n",
      "63/63 [==============================] - ETA: 0s - loss: 1.3660\n",
      "Epoch 00014: val_loss improved from 1.72646 to 1.68999, saving model to MTmodel.h1.24_Aug_20\n",
      "INFO:tensorflow:Assets written to: MTmodel.h1.24_Aug_20/assets\n",
      "63/63 [==============================] - 131s 2s/step - loss: 1.3660 - val_loss: 1.6900\n",
      "Epoch 15/30\n",
      "63/63 [==============================] - ETA: 0s - loss: 1.2809\n",
      "Epoch 00015: val_loss improved from 1.68999 to 1.63141, saving model to MTmodel.h1.24_Aug_20\n",
      "INFO:tensorflow:Assets written to: MTmodel.h1.24_Aug_20/assets\n",
      "63/63 [==============================] - 132s 2s/step - loss: 1.2809 - val_loss: 1.6314\n",
      "Epoch 16/30\n",
      "63/63 [==============================] - ETA: 0s - loss: 1.2015\n",
      "Epoch 00016: val_loss improved from 1.63141 to 1.58328, saving model to MTmodel.h1.24_Aug_20\n",
      "INFO:tensorflow:Assets written to: MTmodel.h1.24_Aug_20/assets\n",
      "63/63 [==============================] - 134s 2s/step - loss: 1.2015 - val_loss: 1.5833\n",
      "Epoch 17/30\n",
      "63/63 [==============================] - ETA: 0s - loss: 1.1238\n",
      "Epoch 00017: val_loss improved from 1.58328 to 1.56798, saving model to MTmodel.h1.24_Aug_20\n",
      "INFO:tensorflow:Assets written to: MTmodel.h1.24_Aug_20/assets\n",
      "63/63 [==============================] - 144s 2s/step - loss: 1.1238 - val_loss: 1.5680\n",
      "Epoch 18/30\n",
      "63/63 [==============================] - ETA: 0s - loss: 1.0515\n",
      "Epoch 00018: val_loss improved from 1.56798 to 1.50676, saving model to MTmodel.h1.24_Aug_20\n",
      "INFO:tensorflow:Assets written to: MTmodel.h1.24_Aug_20/assets\n",
      "63/63 [==============================] - 137s 2s/step - loss: 1.0515 - val_loss: 1.5068\n",
      "Epoch 19/30\n",
      "63/63 [==============================] - ETA: 0s - loss: 0.9804\n",
      "Epoch 00019: val_loss improved from 1.50676 to 1.47821, saving model to MTmodel.h1.24_Aug_20\n",
      "INFO:tensorflow:Assets written to: MTmodel.h1.24_Aug_20/assets\n",
      "63/63 [==============================] - 138s 2s/step - loss: 0.9804 - val_loss: 1.4782\n",
      "Epoch 20/30\n",
      "63/63 [==============================] - ETA: 0s - loss: 0.9145\n",
      "Epoch 00020: val_loss improved from 1.47821 to 1.44149, saving model to MTmodel.h1.24_Aug_20\n",
      "INFO:tensorflow:Assets written to: MTmodel.h1.24_Aug_20/assets\n",
      "63/63 [==============================] - 140s 2s/step - loss: 0.9145 - val_loss: 1.4415\n",
      "Epoch 21/30\n",
      "63/63 [==============================] - ETA: 0s - loss: 0.8503\n",
      "Epoch 00021: val_loss improved from 1.44149 to 1.42234, saving model to MTmodel.h1.24_Aug_20\n",
      "INFO:tensorflow:Assets written to: MTmodel.h1.24_Aug_20/assets\n",
      "63/63 [==============================] - 1958s 31s/step - loss: 0.8503 - val_loss: 1.4223\n",
      "Epoch 22/30\n",
      "63/63 [==============================] - ETA: 0s - loss: 0.7897\n",
      "Epoch 00022: val_loss improved from 1.42234 to 1.40222, saving model to MTmodel.h1.24_Aug_20\n",
      "INFO:tensorflow:Assets written to: MTmodel.h1.24_Aug_20/assets\n",
      "63/63 [==============================] - 111s 2s/step - loss: 0.7897 - val_loss: 1.4022\n",
      "Epoch 23/30\n",
      "63/63 [==============================] - ETA: 0s - loss: 0.7322\n",
      "Epoch 00023: val_loss did not improve from 1.40222\n",
      "63/63 [==============================] - 101s 2s/step - loss: 0.7322 - val_loss: 1.4087\n",
      "Epoch 24/30\n",
      "63/63 [==============================] - ETA: 0s - loss: 0.6801\n",
      "Epoch 00024: val_loss improved from 1.40222 to 1.35425, saving model to MTmodel.h1.24_Aug_20\n",
      "INFO:tensorflow:Assets written to: MTmodel.h1.24_Aug_20/assets\n",
      "63/63 [==============================] - 118s 2s/step - loss: 0.6801 - val_loss: 1.3543\n",
      "Epoch 25/30\n",
      "63/63 [==============================] - ETA: 0s - loss: 0.6291\n",
      "Epoch 00025: val_loss improved from 1.35425 to 1.34209, saving model to MTmodel.h1.24_Aug_20\n",
      "INFO:tensorflow:Assets written to: MTmodel.h1.24_Aug_20/assets\n",
      "63/63 [==============================] - 120s 2s/step - loss: 0.6291 - val_loss: 1.3421\n",
      "Epoch 26/30\n",
      "63/63 [==============================] - ETA: 0s - loss: 0.5822\n",
      "Epoch 00026: val_loss improved from 1.34209 to 1.32987, saving model to MTmodel.h1.24_Aug_20\n",
      "INFO:tensorflow:Assets written to: MTmodel.h1.24_Aug_20/assets\n",
      "63/63 [==============================] - 122s 2s/step - loss: 0.5822 - val_loss: 1.3299\n",
      "Epoch 27/30\n",
      "63/63 [==============================] - ETA: 0s - loss: 0.5351\n",
      "Epoch 00027: val_loss improved from 1.32987 to 1.31219, saving model to MTmodel.h1.24_Aug_20\n",
      "INFO:tensorflow:Assets written to: MTmodel.h1.24_Aug_20/assets\n",
      "63/63 [==============================] - 239s 4s/step - loss: 0.5351 - val_loss: 1.3122\n",
      "Epoch 28/30\n",
      "63/63 [==============================] - ETA: 0s - loss: 0.4937\n",
      "Epoch 00028: val_loss improved from 1.31219 to 1.30803, saving model to MTmodel.h1.24_Aug_20\n",
      "INFO:tensorflow:Assets written to: MTmodel.h1.24_Aug_20/assets\n",
      "63/63 [==============================] - 124s 2s/step - loss: 0.4937 - val_loss: 1.3080\n",
      "Epoch 29/30\n",
      "63/63 [==============================] - ETA: 0s - loss: 0.4544\n",
      "Epoch 00029: val_loss improved from 1.30803 to 1.30617, saving model to MTmodel.h1.24_Aug_20\n",
      "INFO:tensorflow:Assets written to: MTmodel.h1.24_Aug_20/assets\n",
      "63/63 [==============================] - 133s 2s/step - loss: 0.4544 - val_loss: 1.3062\n",
      "Epoch 30/30\n",
      "63/63 [==============================] - ETA: 0s - loss: 0.4166\n",
      "Epoch 00030: val_loss did not improve from 1.30617\n",
      "63/63 [==============================] - 122s 2s/step - loss: 0.4166 - val_loss: 1.3131\n"
     ]
    }
   ],
   "source": [
    "filename = 'MTmodel.h1.24_Aug_20'\n",
    "checkpoint = ModelCheckpoint(filename, monitor='val_loss', verbose=1, save_best_only=True, mode='min')\n",
    "\n",
    "history = model.fit(trainX, trainY.reshape(trainY.shape[0], trainY.shape[1], 1), \n",
    "          epochs=30, batch_size=512, \n",
    "          validation_split = 0.2,\n",
    "          callbacks=[checkpoint], verbose=1)"
   ]
  },
  {
   "cell_type": "code",
   "execution_count": null,
   "metadata": {},
   "outputs": [],
   "source": []
  }
 ],
 "metadata": {
  "kernelspec": {
   "display_name": "Python 3",
   "language": "python",
   "name": "python3"
  },
  "language_info": {
   "codemirror_mode": {
    "name": "ipython",
    "version": 3
   },
   "file_extension": ".py",
   "mimetype": "text/x-python",
   "name": "python",
   "nbconvert_exporter": "python",
   "pygments_lexer": "ipython3",
   "version": "3.7.7"
  }
 },
 "nbformat": 4,
 "nbformat_minor": 4
}
