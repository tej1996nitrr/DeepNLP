{
 "metadata": {
  "language_info": {
   "codemirror_mode": {
    "name": "ipython",
    "version": 3
   },
   "file_extension": ".py",
   "mimetype": "text/x-python",
   "name": "python",
   "nbconvert_exporter": "python",
   "pygments_lexer": "ipython3",
   "version": "3.8.3-final"
  },
  "orig_nbformat": 2,
  "kernelspec": {
   "name": "python_defaultSpec_1595868470511",
   "display_name": "Python 3.8.3 64-bit ('PyTorch': conda)"
  }
 },
 "nbformat": 4,
 "nbformat_minor": 2,
 "cells": [
  {
   "cell_type": "code",
   "execution_count": 4,
   "metadata": {
    "tags": []
   },
   "outputs": [
    {
     "output_type": "stream",
     "name": "stdout",
     "text": "Type: torch.FloatTensor\nShape/size: torch.Size([2, 3])\nValues: \ntensor([[4.7541e-23, 1.4013e-45,        nan],\n        [5.0000e+00, 1.4013e-45, 0.0000e+00]])\nType: torch.FloatTensor\nShape/size: torch.Size([2, 3])\nValues: \ntensor([[0.5257, 0.6302, 0.1379],\n        [0.7894, 0.4679, 0.6650]])\nType: torch.FloatTensor\nShape/size: torch.Size([2, 3])\nValues: \ntensor([[-0.0981, -2.0107,  1.9353],\n        [-0.9266,  1.1781,  0.4401]])\nType: torch.FloatTensor\nShape/size: torch.Size([2, 3])\nValues: \ntensor([[0., 0., 0.],\n        [0., 0., 0.]])\nType: torch.FloatTensor\nShape/size: torch.Size([2, 3])\nValues: \ntensor([[1., 1., 1.],\n        [1., 1., 1.]])\nType: torch.FloatTensor\nShape/size: torch.Size([2, 3])\nValues: \ntensor([[5., 5., 5.],\n        [5., 5., 5.]])\nType: torch.FloatTensor\nShape/size: torch.Size([2, 3])\nValues: \ntensor([[1., 2., 3.],\n        [4., 5., 6.]])\n"
    }
   ],
   "source": [
    "import torch\n",
    "\n",
    "def describe(x):\n",
    "    print(\"Type: {}\".format(x.type())) \n",
    "    print(\"Shape/size: {}\".format(x.shape)) \n",
    "    print(\"Values: \\n{}\".format(x))\n",
    "\n",
    "describe(torch.Tensor(2, 3))\n",
    "describe(torch.rand(2, 3)) # uniform random \n",
    "describe(torch.randn(2, 3)) # random normal\n",
    "describe(torch.zeros(2, 3)) \n",
    "x = torch.ones(2, 3)\n",
    "describe(x)\n",
    "x.fill_(5)\n",
    "describe(x)\n",
    "x = torch.Tensor([[1, 2, 3], [4, 5, 6]])\n",
    "describe(x)\n",
    "\n"
   ]
  },
  {
   "cell_type": "code",
   "execution_count": 5,
   "metadata": {
    "tags": []
   },
   "outputs": [
    {
     "output_type": "stream",
     "name": "stdout",
     "text": "Type: torch.DoubleTensor\nShape/size: torch.Size([2, 3])\nValues: \ntensor([[0.7370, 0.6038, 0.9094],\n        [0.9779, 0.0650, 0.5372]], dtype=torch.float64)\n"
    }
   ],
   "source": [
    "'''Creating and initializing a tensor from NumPy'''\n",
    "import torch\n",
    "import numpy as np\n",
    "\n",
    "npy = np.random.rand(2, 3) \n",
    "describe(torch.from_numpy(npy))"
   ]
  },
  {
   "cell_type": "code",
   "execution_count": 7,
   "metadata": {
    "tags": []
   },
   "outputs": [
    {
     "output_type": "stream",
     "name": "stdout",
     "text": "Type: torch.FloatTensor\nShape/size: torch.Size([2, 3])\nValues: \ntensor([[1., 2., 3.],\n        [4., 5., 6.]])\nType: torch.LongTensor\nShape/size: torch.Size([2, 3])\nValues: \ntensor([[1, 2, 3],\n        [4, 5, 6]])\n"
    }
   ],
   "source": [
    "'''Tensor Types and Size'''\n",
    "x = torch.FloatTensor([[1, 2, 3], [4, 5, 6]])\n",
    "describe(x)\n",
    "x = x.long() \n",
    "describe(x)"
   ]
  },
  {
   "cell_type": "code",
   "execution_count": 13,
   "metadata": {
    "tags": []
   },
   "outputs": [
    {
     "output_type": "stream",
     "name": "stdout",
     "text": "Type: torch.FloatTensor\nShape/size: torch.Size([2, 3])\nValues: \ntensor([[ 0.1994,  1.1253,  0.7844],\n        [ 1.3021, -1.0265,  0.2363]])\nType: torch.FloatTensor\nShape/size: torch.Size([2, 3])\nValues: \ntensor([[ 0.3988,  2.2506,  1.5688],\n        [ 2.6042, -2.0530,  0.4725]])\nType: torch.FloatTensor\nShape/size: torch.Size([2, 3])\nValues: \ntensor([[ 0.3988,  2.2506,  1.5688],\n        [ 2.6042, -2.0530,  0.4725]])\nType: torch.LongTensor\nShape/size: torch.Size([6])\nValues: \ntensor([0, 1, 2, 3, 4, 5])\nType: torch.LongTensor\nShape/size: torch.Size([2, 3])\nValues: \ntensor([[0, 1, 2],\n        [3, 4, 5]])\nType: torch.LongTensor\nShape/size: torch.Size([3])\nValues: \ntensor([3, 5, 7])\nType: torch.LongTensor\nShape/size: torch.Size([2])\nValues: \ntensor([ 3, 12])\nType: torch.LongTensor\nShape/size: torch.Size([3, 2])\nValues: \ntensor([[0, 3],\n        [1, 4],\n        [2, 5]])\n"
    }
   ],
   "source": [
    "'''Tensor Operations'''\n",
    "x = torch.randn(2, 3) \n",
    "describe(x)\n",
    "describe(torch.add(x, x))\n",
    "describe(x + x)\n",
    "x = torch.arange(6) \n",
    "describe(x)\n",
    "x = x.view(2, 3) \n",
    "describe(x)\n",
    "describe(torch.sum(x, dim=0))\n",
    "describe(torch.sum(x, dim=1))\n",
    "describe(torch.transpose(x, 0, 1))"
   ]
  },
  {
   "cell_type": "code",
   "execution_count": 20,
   "metadata": {
    "tags": []
   },
   "outputs": [
    {
     "output_type": "stream",
     "name": "stdout",
     "text": "Type: torch.LongTensor\nShape/size: torch.Size([2, 3])\nValues: \ntensor([[0, 1, 2],\n        [3, 4, 5]])\nType: torch.LongTensor\nShape/size: torch.Size([1, 2])\nValues: \ntensor([[0, 1]])\nType: torch.LongTensor\nShape/size: torch.Size([2, 2])\nValues: \ntensor([[0, 1],\n        [3, 4]])\nType: torch.LongTensor\nShape/size: torch.Size([])\nValues: \n1\n"
    }
   ],
   "source": [
    "'''Indexing, Slicing, and Joining'''\n",
    "x = torch.arange(6).view(2, 3) \n",
    "describe(x)\n",
    "describe(x[:1, :2])\n",
    "describe(x[:2, :2])\n",
    "describe(x[0, 1])"
   ]
  },
  {
   "cell_type": "code",
   "execution_count": null,
   "metadata": {},
   "outputs": [],
   "source": []
  }
 ]
}