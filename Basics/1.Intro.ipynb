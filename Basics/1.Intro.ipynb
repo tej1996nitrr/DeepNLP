{
 "metadata": {
  "language_info": {
   "codemirror_mode": {
    "name": "ipython",
    "version": 3
   },
   "file_extension": ".py",
   "mimetype": "text/x-python",
   "name": "python",
   "nbconvert_exporter": "python",
   "pygments_lexer": "ipython3",
   "version": "3.8.3-final"
  },
  "orig_nbformat": 2,
  "kernelspec": {
   "name": "python_defaultSpec_1596131119143",
   "display_name": "Python 3.8.3 64-bit ('PyTorch': conda)"
  }
 },
 "nbformat": 4,
 "nbformat_minor": 2,
 "cells": [
  {
   "cell_type": "code",
   "execution_count": 2,
   "metadata": {
    "tags": []
   },
   "outputs": [
    {
     "output_type": "stream",
     "name": "stdout",
     "text": "Type: torch.FloatTensor\nShape/size: torch.Size([2, 3])\nValues: \ntensor([[1.1210e-44, 0.0000e+00, 0.0000e+00],\n        [0.0000e+00, 0.0000e+00, 0.0000e+00]])\nType: torch.FloatTensor\nShape/size: torch.Size([2, 3])\nValues: \ntensor([[0.5331, 0.6193, 0.9455],\n        [0.6614, 0.2742, 0.8775]])\nType: torch.FloatTensor\nShape/size: torch.Size([2, 3])\nValues: \ntensor([[-0.4978,  0.1484, -1.0333],\n        [ 1.8324,  0.2844, -0.7934]])\nType: torch.FloatTensor\nShape/size: torch.Size([2, 3])\nValues: \ntensor([[0., 0., 0.],\n        [0., 0., 0.]])\nType: torch.FloatTensor\nShape/size: torch.Size([2, 3])\nValues: \ntensor([[1., 1., 1.],\n        [1., 1., 1.]])\nType: torch.FloatTensor\nShape/size: torch.Size([2, 3])\nValues: \ntensor([[5., 5., 5.],\n        [5., 5., 5.]])\nType: torch.FloatTensor\nShape/size: torch.Size([2, 3])\nValues: \ntensor([[1., 2., 3.],\n        [4., 5., 6.]])\n"
    }
   ],
   "source": [
    "import torch\n",
    "\n",
    "def describe(x):\n",
    "    print(\"Type: {}\".format(x.type())) \n",
    "    print(\"Shape/size: {}\".format(x.shape)) \n",
    "    print(\"Values: \\n{}\".format(x))\n",
    "\n",
    "describe(torch.Tensor(2, 3))\n",
    "describe(torch.rand(2, 3)) # uniform random \n",
    "describe(torch.randn(2, 3)) # random normal\n",
    "describe(torch.zeros(2, 3)) \n",
    "x = torch.ones(2, 3)\n",
    "describe(x)\n",
    "x.fill_(5)\n",
    "describe(x)\n",
    "x = torch.Tensor([[1, 2, 3], [4, 5, 6]])\n",
    "describe(x)\n",
    "\n"
   ]
  },
  {
   "cell_type": "code",
   "execution_count": 3,
   "metadata": {
    "tags": []
   },
   "outputs": [
    {
     "output_type": "stream",
     "name": "stdout",
     "text": "Type: torch.DoubleTensor\nShape/size: torch.Size([2, 3])\nValues: \ntensor([[0.9793, 0.2635, 0.3863],\n        [0.2995, 0.3770, 0.4928]], dtype=torch.float64)\n"
    }
   ],
   "source": [
    "'''Creating and initializing a tensor from NumPy'''\n",
    "import torch\n",
    "import numpy as np\n",
    "\n",
    "npy = np.random.rand(2, 3) \n",
    "describe(torch.from_numpy(npy))"
   ]
  },
  {
   "cell_type": "code",
   "execution_count": 4,
   "metadata": {
    "tags": []
   },
   "outputs": [
    {
     "output_type": "stream",
     "name": "stdout",
     "text": "Type: torch.FloatTensor\nShape/size: torch.Size([2, 3])\nValues: \ntensor([[1., 2., 3.],\n        [4., 5., 6.]])\nType: torch.LongTensor\nShape/size: torch.Size([2, 3])\nValues: \ntensor([[1, 2, 3],\n        [4, 5, 6]])\n"
    }
   ],
   "source": [
    "'''Tensor Types and Size'''\n",
    "x = torch.FloatTensor([[1, 2, 3], [4, 5, 6]])\n",
    "describe(x)\n",
    "x = x.long() \n",
    "describe(x)"
   ]
  },
  {
   "cell_type": "code",
   "execution_count": 13,
   "metadata": {
    "tags": []
   },
   "outputs": [
    {
     "output_type": "stream",
     "name": "stdout",
     "text": "Type: torch.FloatTensor\nShape/size: torch.Size([2, 3])\nValues: \ntensor([[ 0.1994,  1.1253,  0.7844],\n        [ 1.3021, -1.0265,  0.2363]])\nType: torch.FloatTensor\nShape/size: torch.Size([2, 3])\nValues: \ntensor([[ 0.3988,  2.2506,  1.5688],\n        [ 2.6042, -2.0530,  0.4725]])\nType: torch.FloatTensor\nShape/size: torch.Size([2, 3])\nValues: \ntensor([[ 0.3988,  2.2506,  1.5688],\n        [ 2.6042, -2.0530,  0.4725]])\nType: torch.LongTensor\nShape/size: torch.Size([6])\nValues: \ntensor([0, 1, 2, 3, 4, 5])\nType: torch.LongTensor\nShape/size: torch.Size([2, 3])\nValues: \ntensor([[0, 1, 2],\n        [3, 4, 5]])\nType: torch.LongTensor\nShape/size: torch.Size([3])\nValues: \ntensor([3, 5, 7])\nType: torch.LongTensor\nShape/size: torch.Size([2])\nValues: \ntensor([ 3, 12])\nType: torch.LongTensor\nShape/size: torch.Size([3, 2])\nValues: \ntensor([[0, 3],\n        [1, 4],\n        [2, 5]])\n"
    }
   ],
   "source": [
    "'''Tensor Operations'''\n",
    "x = torch.randn(2, 3) \n",
    "describe(x)\n",
    "describe(torch.add(x, x))\n",
    "describe(x + x)\n",
    "x = torch.arange(6) \n",
    "describe(x)\n",
    "x = x.view(2, 3) \n",
    "describe(x)\n",
    "describe(torch.sum(x, dim=0))\n",
    "describe(torch.sum(x, dim=1))\n",
    "describe(torch.transpose(x, 0, 1))"
   ]
  },
  {
   "cell_type": "code",
   "execution_count": 7,
   "metadata": {
    "tags": []
   },
   "outputs": [
    {
     "output_type": "stream",
     "name": "stdout",
     "text": "Type: torch.LongTensor\nShape/size: torch.Size([2, 3])\nValues: \ntensor([[0, 1, 2],\n        [3, 4, 5]])\nType: torch.LongTensor\nShape/size: torch.Size([1, 2])\nValues: \ntensor([[0, 1]])\nType: torch.LongTensor\nShape/size: torch.Size([2, 2])\nValues: \ntensor([[0, 1],\n        [3, 4]])\nType: torch.LongTensor\nShape/size: torch.Size([])\nValues: \n1\n"
    }
   ],
   "source": [
    "'''Indexing, Slicing, and Joining'''\n",
    "x = torch.arange(6).view(2, 3) \n",
    "describe(x)\n",
    "describe(x[:1, :2])\n",
    "describe(x[:2, :2])\n",
    "describe(x[0, 1])"
   ]
  },
  {
   "cell_type": "code",
   "execution_count": 10,
   "metadata": {
    "tags": []
   },
   "outputs": [
    {
     "output_type": "stream",
     "name": "stdout",
     "text": "Type: torch.LongTensor\nShape/size: torch.Size([2, 3])\nValues: \ntensor([[0, 1, 2],\n        [3, 4, 5]])\nType: torch.LongTensor\nShape/size: torch.Size([2, 2])\nValues: \ntensor([[0, 2],\n        [3, 5]])\nType: torch.LongTensor\nShape/size: torch.Size([2, 3])\nValues: \ntensor([[0, 1, 2],\n        [0, 1, 2]])\nType: torch.LongTensor\nShape/size: torch.Size([2])\nValues: \ntensor([0, 4])\n"
    }
   ],
   "source": [
    "indices = torch.LongTensor([0, 2])\n",
    "describe(x)\n",
    "describe(torch.index_select(x, dim=1, index=indices))\n",
    "indices = torch.LongTensor([0, 0]) \n",
    "describe(torch.index_select(x, dim=0, index=indices))\n",
    "row_indices = torch.arange(2).long() \n",
    "col_indices = torch.LongTensor([0, 1]) \n",
    "describe(x[row_indices, col_indices])"
   ]
  },
  {
   "cell_type": "code",
   "execution_count": 13,
   "metadata": {
    "tags": []
   },
   "outputs": [
    {
     "output_type": "stream",
     "name": "stdout",
     "text": "Type: torch.LongTensor\nShape/size: torch.Size([2, 3])\nValues: \ntensor([[0, 1, 2],\n        [3, 4, 5]])\nType: torch.LongTensor\nShape/size: torch.Size([4, 3])\nValues: \ntensor([[0, 1, 2],\n        [3, 4, 5],\n        [0, 1, 2],\n        [3, 4, 5]])\nType: torch.LongTensor\nShape/size: torch.Size([4, 3])\nValues: \ntensor([[0, 1, 2],\n        [3, 4, 5],\n        [0, 1, 2],\n        [3, 4, 5]])\nType: torch.LongTensor\nShape/size: torch.Size([2, 6])\nValues: \ntensor([[0, 1, 2, 0, 1, 2],\n        [3, 4, 5, 3, 4, 5]])\nType: torch.LongTensor\nShape/size: torch.Size([2, 2, 3])\nValues: \ntensor([[[0, 1, 2],\n         [3, 4, 5]],\n\n        [[0, 1, 2],\n         [3, 4, 5]]])\n"
    }
   ],
   "source": [
    "'''Concatenate. Tensors'''\n",
    "describe(x)\n",
    "describe(torch.cat([x,x]))\n",
    "describe(torch.cat([x,x],dim=0))\n",
    "describe(torch.cat([x,x],dim=1))\n",
    "describe(torch.stack([x, x]))"
   ]
  },
  {
   "cell_type": "code",
   "execution_count": 23,
   "metadata": {
    "tags": []
   },
   "outputs": [
    {
     "output_type": "stream",
     "name": "stdout",
     "text": "Type: torch.LongTensor\nShape/size: torch.Size([2, 3])\nValues: \ntensor([[0, 1, 2],\n        [3, 4, 5]])\nType: torch.FloatTensor\nShape/size: torch.Size([3])\nValues: \ntensor([1., 1., 1.])\nType: torch.FloatTensor\nShape/size: torch.Size([3, 2])\nValues: \ntensor([[1., 2.],\n        [1., 2.],\n        [1., 2.]])\nType: torch.LongTensor\nShape/size: torch.Size([2, 2])\nValues: \ntensor([[ 3,  6],\n        [12, 24]])\n"
    }
   ],
   "source": [
    "'''Multiplication'''\n",
    "x1 = torch.arange(6).view(2, 3) \n",
    "describe(x1)\n",
    "x2 = torch.ones(3, 2) \n",
    "describe(x2[:, 1])\n",
    "\n",
    "x2[:, 1] += 1\n",
    "describe(x2)\n",
    "describe(torch.mm(x1, x2.long()))"
   ]
  },
  {
   "cell_type": "code",
   "execution_count": 27,
   "metadata": {
    "tags": []
   },
   "outputs": [
    {
     "output_type": "stream",
     "name": "stdout",
     "text": "Type: torch.FloatTensor\nShape/size: torch.Size([2, 2])\nValues: \ntensor([[1., 1.],\n        [1., 1.]], requires_grad=True)\nTrue\nType: torch.FloatTensor\nShape/size: torch.Size([2, 2])\nValues: \ntensor([[21., 21.],\n        [21., 21.]], grad_fn=<AddBackward0>)\nTrue\nType: torch.FloatTensor\nShape/size: torch.Size([])\nValues: \n21.0\nFalse\n"
    }
   ],
   "source": [
    "''' Computational Graphs'''\n",
    "x = torch.ones(2, 2, requires_grad=True) \n",
    "describe(x)\n",
    "print(x.grad is None)\n",
    "y = (x + 2) * (x + 5) + 3 \n",
    "describe(y)\n",
    "print(x.grad is None)\n",
    "z = y.mean() \n",
    "describe(z) \n",
    "z.backward() \n",
    "print(x.grad is None)"
   ]
  },
  {
   "cell_type": "code",
   "execution_count": 1,
   "metadata": {
    "tags": []
   },
   "outputs": [
    {
     "output_type": "stream",
     "name": "stdout",
     "text": "1\nRank 2\nEach element along the first axis, is an array: \n[1, 2, 3]\n[4, 5, 6]\n[7, 8, 9]\nEach element along the second axis, is a number: \n1\n4\n8\ntorch.Size([3, 3])\n"
    }
   ],
   "source": [
    "import torch\n",
    "class RankAxesShape():\n",
    "    def __init__(self):\n",
    "        self.dd = [\n",
    "            [1, 2, 3],\n",
    "            [4, 5, 6],\n",
    "            [7, 8, 9]\n",
    "        ]\n",
    "\n",
    "    def rank_of_tensor(self):\n",
    "        \"\"\"\n",
    "        A tensor's rank tells us how many indexes are needed to refer to a specific element within the tensor,\n",
    "        the number of dimensions present within the tensor\n",
    "        \"\"\"\n",
    "        print(self.dd[0][0])\n",
    "        print(\"Rank 2\")\n",
    "\n",
    "    def axes_of_tensor(self):\n",
    "        \"\"\"\n",
    "        An axis of a tensor is a specific dimension of a tensor.The length of each axis tells us\n",
    "        how many indexes are available along each axis.\n",
    "        \"\"\"\n",
    "        print(\"Each element along the first axis, is an array: \")\n",
    "        print(self.dd[0])\n",
    "        print(self.dd[1])\n",
    "        print(self.dd[2])\n",
    "        print(\"Each element along the second axis, is a number: \")\n",
    "        print(self.dd[0][0])\n",
    "        print(self.dd[1][0])\n",
    "        print(self.dd[2][1])\n",
    "\n",
    "    def shape_of_tensor(self):\n",
    "        \"\"\"The shape of a tensor gives us the length of each axis of the tensor. \"\"\"\n",
    "        print(torch.tensor(self.dd).shape)\n",
    "\n",
    "s = RankAxesShape()\n",
    "s.rank_of_tensor()\n",
    "s.axes_of_tensor()\n",
    "s.shape_of_tensor()"
   ]
  },
  {
   "cell_type": "code",
   "execution_count": null,
   "metadata": {},
   "outputs": [],
   "source": []
  }
 ]
}